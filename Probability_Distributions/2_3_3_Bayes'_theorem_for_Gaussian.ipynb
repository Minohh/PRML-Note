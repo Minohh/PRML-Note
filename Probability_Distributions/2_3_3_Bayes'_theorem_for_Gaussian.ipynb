{
 "cells": [
  {
   "cell_type": "markdown",
   "metadata": {},
   "source": [
    "# Bayes' theorem for Gaussian variables\n",
    "\n",
    "## Mean and Covariance of joint distribution\n",
    "Suppose we have the marginal and conditional distributions denote by\n",
    "$$\\begin{align*}\n",
    "p(\\mathbf{x}) &=\\mathcal{N}(\\mathbf{x}|\\mathbf{\\mu},\\Lambda^{-1})\\\\\n",
    "p(\\mathbf{y}|\\mathbf{x}) &= \\mathcal{N}(\\mathbf{y}|A\\mathbf{x}+\\mathbf{b}, L^{-1})\n",
    "\\end{align*}$$\n",
    "where $\\mathbf{\\mu}$, $A$, and $\\mathbf{b}$ are parameters governing the means, and $\\Lambda$ and $L$ are precision matrices. If $\\mathbf{x}$ has dimensionality $M$ and $\\mathbf{y}$ has dimensionality $D$, then the matrix $A$ has size $D\\times M$.   \n",
    "First we find an expression for the joint distribution over $\\mathbf{x}$ and $\\mathbf{y}$. To do this, we define\n",
    "$$\\mathbf{z}=\\binom{\\mathbf{x}}{\\mathbf{y}}$$\n",
    "and then consider the log of the joint distribution\n",
    "$$\\begin{align*}\n",
    "\\ln p(\\mathbf{z}) &= \\ln p(\\mathbf{x}) + \\ln p(\\mathbf{y}|\\mathbf{x})\\\\\n",
    "&=-\\frac{1}{2}(\\mathbf{x}-\\mathbf{\\mu})^T\\Lambda(\\mathbf{x}-\\mathbf{\\mu})-\\frac{1}{2}(\\mathbf{y}-A\\mathbf{x}-\\mathbf{b})^TL(\\mathbf{y}-A\\mathbf{x}-\\mathbf{b})+const\\\\\n",
    "&=\\underbrace{-\\frac{1}{2}\\mathbf{x}^T(\\Lambda+A^TLA)\\mathbf{x}-\\frac{1}{2}\\mathbf{y}^TL\\mathbf{y}+\\frac{1}{2}\\mathbf{y}^TLA\\mathbf{x}+\\frac{1}{2}\\mathbf{x}^TA^TL\\mathbf{y}}_{second\\ order\\ terms\\ of\\ \\mathbf{x},\\mathbf{y}}\n",
    "+\\underbrace{\\mathbf{x}^T\\Lambda\\mathbf{\\mu}-\\mathbf{x}^TA^TL\\mathbf{b}+\\mathbf{y}^TL\\mathbf{b}}_{first\\ order\\ terms\\ of\\ \\mathbf{x},\\mathbf{y}}+const\\\\\n",
    "&=-\\frac{1}{2}\\binom{\\mathbf{x}}{\\mathbf{y}}^T\n",
    "\\left(\\begin{matrix}\\Lambda+A^TLA & -A^TL\\\\ -LA & L\\end{matrix}\\right)\n",
    "\\binom{\\mathbf{x}}{\\mathbf{y}}\n",
    "+\\binom{\\mathbf{x}}{\\mathbf{y}}^T\n",
    "\\binom{\\Lambda\\mathbf{\\mu}-A^TL\\mathbf{b}}{L\\mathbf{b}}\n",
    "+const\n",
    "\\end{align*}$$\n",
    "Following the general Gaussian distribution exponent which is given by\n",
    "$$-\\frac{1}{2}(\\mathbf{x}-\\mathbf{\\mu})^T\\Sigma^{-1}(\\mathbf{x}-\\mathbf{\\mu})=-\\frac{1}{2}\\mathbf{x}^T\\Sigma^{-1}\\mathbf{x}+\\mathbf{x}^T\\Sigma^{-1}\\mathbf{\\mu}+const$$\n",
    "we can conclude that the covariance and mean of the combined variable $\\mathbf{z}$ is given by\n",
    "$$\\begin{align*}cov[\\mathbf{z}]&=R^{-1}=\\left(\\begin{matrix}\\Lambda+A^TLA & -A^TL\\\\ -LA & L\\end{matrix}\\right)^{-1}=\\left(\\begin{matrix}\\Lambda^{-1} & \\Lambda^{-1}A^T\\\\ A\\Lambda^{-1} & L^{-1}+A\\Lambda^{-1}A^T\\end{matrix}\\right)\\\\\n",
    "\\mathbb{E}[\\mathbf{z}] &= R^{-1}\\binom{\\Lambda\\mathbf{\\mu}-A^TL\\mathbf{b}}{L\\mathbf{b}} = \\binom{\\mathbf{\\mu}}{A\\mathbf{\\mu}+\\mathbf{b}}\n",
    "\\end{align*}$$\n",
    "\n",
    "## Mean and Covariance of marginal distribution\n",
    "With the mean and covariance of the joint distribution $p(\\mathbf{z})=p(\\mathbf{x},\\mathbf{y})$, we can easily figure out that the mean and covariance of the marginal distribution $p(\\mathbf{y})$ is given by\n",
    "$$\\begin{align*}\\mathbb{E}[\\mathbf{y}]&= A\\mathbf{\\mu}+\\mathbf{b}\\\\\n",
    "cov[\\mathbf{y}]&=L^{-1}+A\\Lambda^{-1}A^T\\end{align*}$$\n",
    "\n",
    "## Mean and Covariance of conditional distribution\n",
    "With the mean and covariance of the joint distribution $p(\\mathbf{z})=p(\\mathbf{x},\\mathbf{y})$, we can easily figure out that the mean and covariance of the conditional distribution $p(\\mathbf{x}|\\mathbf{y})$ is given by\n",
    "$$\\begin{align*}\\mathbb{E}[\\mathbf{x}|\\mathbf{y}]&= (\\Lambda+A^TLA)^{-1}\\big\\{A^TL(\\mathbf{y}-\\mathbf{b})+\\Lambda\\mathbf{\\mu}\\big\\}\\\\\n",
    "cov[\\mathbf{x}|\\mathbf{y}]&=(\\Lambda+A^TLA)^{-1}\\end{align*}$$\n",
    "\n",
    "## Conclusion\n",
    "Given a marginal Gaussian distribution for $\\mathbf{x}$ and a conditional Gaussian distribution for $\\mathbf{y}$ given $\\mathbf{x}$ in the form\n",
    "<font color='red'>$$\\begin{align*}\n",
    "p(\\mathbf{x}) &=\\mathcal{N}(\\mathbf{x}|\\mathbf{\\mu},\\Lambda^{-1})\\\\\n",
    "p(\\mathbf{y}|\\mathbf{x}) &= \\mathcal{N}(\\mathbf{y}|A\\mathbf{x}+\\mathbf{b}, L^{-1})\n",
    "\\end{align*}$$</font>\n",
    "the marginal distribution of $\\mathbf{y}$ and the coditional distribution of $\\mathbf{x}$ given $\\mathbf{y}$ are given by\n",
    "<font color='red'>$$\\begin{align*}\n",
    "p(\\mathbf{y}) &=\\mathcal{N}(\\mathbf{y}|A\\mathbf{\\mu}+\\mathbf{b},L^{-1}+A\\Lambda^{-1}A^T)\\\\\n",
    "p(\\mathbf{x}|\\mathbf{y}) &= \\mathcal{N}(\\mathbf{x}|\\Sigma\\big\\{A^TL(\\mathbf{y}-\\mathbf{b})+\\Lambda\\mathbf{\\mu}\\big\\}, \\Sigma)\n",
    "\\end{align*}$$</font>\n",
    "where\n",
    "<font color='red'>$$\\Sigma=(\\Lambda+A^TLA)^{-1}$$</font>"
   ]
  }
 ],
 "metadata": {
  "kernelspec": {
   "display_name": "Python 3",
   "language": "python",
   "name": "python3"
  },
  "language_info": {
   "codemirror_mode": {
    "name": "ipython",
    "version": 3
   },
   "file_extension": ".py",
   "mimetype": "text/x-python",
   "name": "python",
   "nbconvert_exporter": "python",
   "pygments_lexer": "ipython3",
   "version": "3.7.3"
  }
 },
 "nbformat": 4,
 "nbformat_minor": 2
}
