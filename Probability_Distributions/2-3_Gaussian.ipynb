{
 "cells": [
  {
   "cell_type": "markdown",
   "metadata": {},
   "source": [
    "# The Gaussian Distribution\n",
    "\n",
    "**1-Demensional Gaussian**\n",
    "$$\\mathcal{N}(x|\\mu,\\sigma^2)=\\frac{1}{(2\\pi\\sigma^2)^{1/2}}exp\\left\\{-\\frac{1}{2\\sigma^2}(x-\\mu)^2\\right\\}$$\n",
    "where $\\mu$ is the mean and $\\sigma^2$ is the variance.  \n",
    "**D-Demensional Gaussian**\n",
    "$$\\mathcal{N}(\\mathbf{x}|\\mathbf{\\mu},\\Sigma)=\\frac{1}{2\\pi}^{D/2}\\frac{1}{|\\Sigma|^{1/2}}exp\\left\\{-\\frac{1}{2}(\\mathbf{x}-\\mathbf{\\mu}^T)\\Sigma^{-1}(\\mathbf{x}-\\mathbf{\\mu})\\right\\}$$\n",
    "where $\\mathbf{\\mu}$ is a $D$-dimensional mean vector, $\\Sigma$ is a $D\\times D$ convariance matrix, and $|\\Sigma|$ denotes the determinant of $\\Sigma$.  \n"
   ]
  }
 ],
 "metadata": {
  "kernelspec": {
   "display_name": "Python 3",
   "language": "python",
   "name": "python3"
  },
  "language_info": {
   "codemirror_mode": {
    "name": "ipython",
    "version": 3
   },
   "file_extension": ".py",
   "mimetype": "text/x-python",
   "name": "python",
   "nbconvert_exporter": "python",
   "pygments_lexer": "ipython3",
   "version": "3.7.3"
  }
 },
 "nbformat": 4,
 "nbformat_minor": 2
}
