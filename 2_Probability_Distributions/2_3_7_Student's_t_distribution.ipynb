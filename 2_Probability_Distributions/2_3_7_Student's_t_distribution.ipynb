{
 "cells": [
  {
   "cell_type": "markdown",
   "metadata": {},
   "source": [
    "# Student's t-distribution\n",
    "\n",
    "Suppose that we have a univariate Gaussian $\\mathcal{N}(x|\\mu,\\tau^{-1})$ together with a Gamma prior $Gam(\\tau|a, b)$ and we integrate out the precision $\\tau$, we obtain the marginal distribution of $x$ in the form.\n",
    "$$\\begin{align*}\n",
    "p(x|\\mu,a,b) &= \\int_{0}^{\\infty}\\mathcal{N}(x|\\mu,\\tau)Gam(\\tau|a,b)d\\tau \\tag{2.158}\\\\\n",
    "&=\\int_{0}^{\\infty}\\frac{b^ae^{(-b\\tau)}\\tau^{a-1}}{\\Gamma(a)}\\left(\\frac{\\tau}{2\\pi}\\right)^{1/2}exp\\left\\{-\\frac{\\tau}{2}(x-\\mu)^2\\right\\}d\\tau\\\\\n",
    "&=\\frac{b^a}{\\Gamma(a)}\\left(\\frac{1}{2\\pi}\\right)^{1/2}\\int_{0}^{\\infty}\\tau^{a-1/2}exp\\left\\{-\\tau\\left[b+\\frac{(x-\\mu)^2}{2}\\right]\\right\\}d\\tau\\\\\n",
    "&=\\frac{b^a}{\\Gamma(a)}\\left(\\frac{1}{2\\pi}\\right)^{1/2}\\int_{0}^{\\infty}z^{a-1/2}\\cdot \\left[b+\\frac{(x-\\mu)^2}{2}\\right]^{-a+1/2} exp\\left\\{-z\\right\\}d\\left(z\\cdot \\left[b+\\frac{(x-\\mu)^2}{2}\\right]^{-1}\\right)\\qquad let\\ z=\\tau\\left[\\frac{b+(x-\\mu)^2}{2}\\right]\\\\\n",
    "&=\\frac{b^a}{\\Gamma(a)}\\left(\\frac{1}{2\\pi}\\right)^{1/2}\\int_{0}^{\\infty}z^{a-1/2}\\cdot \\left[b+\\frac{(x-\\mu)^2}{2}\\right]^{-a-1/2} exp\\left\\{-z\\right\\}dz\\\\\n",
    "&=\\frac{b^a}{\\Gamma(a)}\\left(\\frac{1}{2\\pi}\\right)^{1/2}\\left[b+\\frac{(x-\\mu)^2}{2}\\right]^{-a-1/2}\\int_{0}^{\\infty}z^{a-1/2} exp\\left\\{-z\\right\\}dz\\\\\n",
    "&=\\frac{b^a}{\\Gamma(a)}\\left(\\frac{1}{2\\pi}\\right)^{1/2}\\left[b+\\frac{(x-\\mu)^2}{2}\\right]^{-a-1/2}\\Gamma(a+1/2)\n",
    "\\end{align*}$$\n",
    "By convention we define new parameters given by $v=2a$ and $\\lambda=\\frac{a}{b}$, in terms of which the distribution $p(x|\\mu,a,b)$ takes the form\n",
    "$$St(x|\\mu,\\lambda,v)=\\frac{\\Gamma(v/2+1/2)}{\\Gamma(v/2)}\\left(\\frac{\\lambda}{\\pi v}\\right)^{1/2}\\left[1+\\frac{\\lambda(x-\\mu)^2}{v}\\right]^{-v/2-1/2} \\tag{2.159}$$\n",
    "\n",
    "- The parameter $\\lambda$ is sometimes called the precision of the t-distribution, even though it is not in general equal to the inverse of the variance.\n",
    "- The parameter $v$ is called the degrees of freedom. When in the limit $v\\to\\infty$ the t-distribution $St(x|\\mu,\\lambda, v)$ become a Gaussian $\\mathcal{N}(x|mu,\\lambda^{-1})$ with mean $\\mu$ and precision $\\lambda$. \n",
    "- <font color='red'>The t-distribution is more robust, in another word, less sensitive than the Gaussian to the presence of a few data point which are *outliers*.</font> This can be seen from the integration of Gaussian and Gamma. The integration scale is $[0, \\infty]$ which covers all the variance of Gaussian and leads to longer (heavier) tails over the t-distribution. T-distribution can be interpreted as an infinite mixture of Gaussian.\n",
    "- The maximum likelihood solution for the t-distribution can be found using the *expectation maximization* (EM) algorithm.\n",
    "\n",
    "## General form\n",
    "### Univariate Gaussian\n",
    "$$St(x|\\mu,\\lambda,v)=\\int_{0}^{-\\infty}\\mathcal{N}\\big(x|\\mu,(\\eta\\lambda)^{-1}\\big)Gam\\big(\\eta|v/2,v/2\\big)d\\eta \\tag{2.160}$$\n",
    "where $v=2a$, $\\lambda=a/b$, and $\\eta=\\tau b/a$.\n",
    "\n",
    "### Multivariate Gaussian\n",
    "$$St(\\mathbf{x}|\\mathbf{\\mu}, \\Lambda, v)=\\int_0^{\\infty}\\mathcal{N}\\big(\\mathbf{x}|\\mathbf{\\mu},(\\eta\\Lambda)^{-1}\\big)Gam(\\eta|v/2,v/2)d\\eta \\tag{2.161}$$\n",
    "Evaluate this integral to give\n",
    "$$St(\\mathbf{x}|\\mathbf{\\mu}, \\Lambda, v)=\\frac{\\Gamma(D/2+v/2)}{\\Gamma(v/2)}\\frac{|\\Lambda|^{1/2}}{(\\pi v)^{D/2}}\\left[1+\\frac{\\Delta^2}{v}\\right]^{-D/2-v/2} \\tag{2.162}$$\n",
    "where  \n",
    "- $\\Lambda$ is the precision of t-distribution.\n",
    "- $v$ is the degrees of freedom.\n",
    "- $D$ is the dimensionality of $\\mathbf{x}$.\n",
    "- $\\Delta^2$ is the Mahalanobis distance defined by\n",
    "$$\\Delta^2=(\\mathbf{x}-\\mathbf{\\mu})^T\\Lambda(\\mathbf{x}-\\mathbf{\\mu}) \\tag{2.163}$$\n",
    "\n",
    "The mean, variance and mode is given by\n",
    "$$\\begin{align*}\n",
    "\\mathbb{E}[\\mathbf{x}]&=\\mathbf{\\mu},  &if\\ v>1 \\tag{2.164}\\\\\n",
    "cov[\\mathbf{x}] &=\\frac{v}{v-2}\\Lambda^{-1}, &if\\ v>2 \\tag{2.165}\\\\\n",
    "mode[\\mathbf{x}] &=\\mathbf{\\mu} \\tag{2.166}\n",
    "\\end{align*}$$"
   ]
  }
 ],
 "metadata": {
  "kernelspec": {
   "display_name": "Python 3",
   "language": "python",
   "name": "python3"
  },
  "language_info": {
   "codemirror_mode": {
    "name": "ipython",
    "version": 3
   },
   "file_extension": ".py",
   "mimetype": "text/x-python",
   "name": "python",
   "nbconvert_exporter": "python",
   "pygments_lexer": "ipython3",
   "version": "3.7.3"
  }
 },
 "nbformat": 4,
 "nbformat_minor": 2
}
