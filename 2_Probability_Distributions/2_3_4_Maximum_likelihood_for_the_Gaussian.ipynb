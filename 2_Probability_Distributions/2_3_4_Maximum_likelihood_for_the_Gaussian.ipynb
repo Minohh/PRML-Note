{
 "cells": [
  {
   "cell_type": "markdown",
   "metadata": {},
   "source": [
    "# Maximum likelihood for the Gaussian\n",
    "\n",
    "Given a data set $\\mathbf{X}=(\\mathbf{x}_1,\\cdots,\\mathbf{x}_N)^T$ in which the observations $\\{\\mathbf{x}_n\\}$ are assumed to be drawn independently from a multivariate Gaussian distribution, we can estimate the parameters of the distribution by maximum likelihood.\n",
    "\n",
    "## Log likelihood function\n",
    "$$\\ln p(\\mathbf{X}|\\mathbf{\\mu}, \\Sigma)=-\\frac{ND}{2}\\ln(2\\pi)-\\frac{N}{2}\\ln |\\Sigma|-\\frac{1}{2}\\sum_{n=1}^{N}(\\mathbf{x}_n-\\mathbf{\\mu})^T\\Sigma^{-1}(\\mathbf{x}_n-\\mathbf{\\mu})$$\n",
    "We want to adjust the parameters $\\mathbf{\\mu}$ and $\\Sigma$ to maximize the function.\n",
    "\n",
    "## Mean\n",
    "The derivative of the log likelihood with respect to $\\mathbf{\\mu}$is given by\n",
    "$$\\frac{\\partial}{\\partial \\mathbf{\\mu}}\\ln p(\\mathbf{X}|\\mathbf{\\mu},\\Sigma)=\\sum_{n=1}^{N}\\Sigma^{-1}(\\mathbf{x}_n-\\mathbf{\\mu})=\\Sigma^{-1}\\left(\\sum_{n=1}^N\\mathbf{x}_n-N\\mathbf{\\mu}\\right)$$\n",
    "Setting the derivateive to zero to maximize the log likelihood function, we obtain the estimate of the mean given by\n",
    "$$\\mathbf{\\mu}_{ML}=\\frac{1}{N}\\sum_{n=1}^N\\mathbf{x}_n$$\n",
    "\n",
    "## Covariance\n",
    "The covariance that based on this mean takes the form\n",
    "$$\\Sigma_{ML}=\\frac{1}{N}\\sum_{n=1}^{N}(\\mathbf{x}_n-\\mathbf{\\mu}_{ML})(\\mathbf{x}_n-\\mathbf{\\mu}_{ML})^T$$\n",
    "Then correct the bias by difining a different estimator \n",
    "$$\\tilde{\\Sigma}=\\frac{N}{N-1}\\Sigma_{ML}=\\frac{1}{N-1}\\sum_{n=1}^{N}(\\mathbf{x}_n-\\mathbf{\\mu}_{ML})(\\mathbf{x}_n-\\mathbf{\\mu}_{ML})^T$$"
   ]
  }
 ],
 "metadata": {
  "kernelspec": {
   "display_name": "Python 3",
   "language": "python",
   "name": "python3"
  },
  "language_info": {
   "codemirror_mode": {
    "name": "ipython",
    "version": 3
   },
   "file_extension": ".py",
   "mimetype": "text/x-python",
   "name": "python",
   "nbconvert_exporter": "python",
   "pygments_lexer": "ipython3",
   "version": "3.7.3"
  }
 },
 "nbformat": 4,
 "nbformat_minor": 2
}
