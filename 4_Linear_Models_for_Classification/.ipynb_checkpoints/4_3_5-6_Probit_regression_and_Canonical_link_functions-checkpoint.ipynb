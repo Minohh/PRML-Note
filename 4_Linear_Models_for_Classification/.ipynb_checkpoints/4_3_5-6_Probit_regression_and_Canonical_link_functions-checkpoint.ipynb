{
 "cells": [
  {
   "cell_type": "markdown",
   "metadata": {},
   "source": [
    "# Probit regression\n",
    "\n",
    "In the two-class case, the logistic sigmoid function can be interpreted as the probability of $\\phi$ assigning to class $C_1$.\n",
    "\n",
    "$$p(t = 1|a) = \\sigma(a) = f(a) \\tag{4.111}$$\n",
    "\n",
    "where $a=\\mathbf{w}^T\\phi$, and $f(\\cdot)$ is the activation function, which can be interpreted as the probability as well.\n",
    "\n",
    "Sometimes, we may want a more general activation function instead of the sigmoid function to compute the probability.\n",
    "\n",
    "$$f(a) = \\int_{-\\infty}^a p(\\theta) d\\theta \\tag{4.113}$$\n",
    "\n",
    "where $p(\\theta)$ is the probability density function. As a specific example, suppose that the density $p(\\theta)$ is given by a zero mean, unit variance Gaussian. The corresponding cumulative distribution function is given by\n",
    "\n",
    "$$f(a) = \\Phi(a) = \\int_{-\\infty}^a \\mathcal{N}(\\theta|0,1)d\\theta \\tag{4.114}$$\n",
    "\n",
    "which is known as the probit function. <font color='red'>It has a sigmoidal shape and similar to the logistic sigmoid function, such that it can be used as the approximation of the sigmoid function.</font>\n",
    "\n",
    "\n",
    "# Canonical link functions\n",
    "\n",
    "We have seen from the linear regression and logistic regression that the derivative with respect to the parameter vector $\\mathbf{w}$ of the error functions are all take the form\n",
    "\n",
    "$$(y_n-t_n)\\phi_n$$\n",
    "\n",
    "where $y_n = \\mathbf{w}^T\\phi_n$.\n",
    "\n",
    "This is a general result of assuming a conditional distribution for the target variable from the exponential family, along with a corresponding choice for the activation function known as the *canonical link function*."
   ]
  }
 ],
 "metadata": {
  "kernelspec": {
   "display_name": "Python 3",
   "language": "python",
   "name": "python3"
  },
  "language_info": {
   "codemirror_mode": {
    "name": "ipython",
    "version": 3
   },
   "file_extension": ".py",
   "mimetype": "text/x-python",
   "name": "python",
   "nbconvert_exporter": "python",
   "pygments_lexer": "ipython3",
   "version": "3.7.3"
  }
 },
 "nbformat": 4,
 "nbformat_minor": 2
}
