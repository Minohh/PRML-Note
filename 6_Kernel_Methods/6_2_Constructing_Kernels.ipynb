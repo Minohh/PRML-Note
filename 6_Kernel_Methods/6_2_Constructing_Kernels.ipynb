{
 "cells": [
  {
   "cell_type": "markdown",
   "metadata": {},
   "source": [
    "In order to exploit kernel substitusion, we need to be able to construct valid kernel functions.\n",
    "\n",
    "There are two ways to constructing kernels.\n",
    "\n",
    "1. Choose a feature space mapping $\\phi(\\mathbf{x})$ and then use this to find the corresponding kernel. Here the kernel function is defined for a one-dimensional input space by\n",
    "$$k(x, x') = \\phi(x)^T\\phi(x') = \\sum_{i=1}^M\\phi_i(x)\\phi_i(x') \\tag{6.10}$$\n",
    "\n",
    "2. Construct kernel functions directly. One powerful technique for constructing new kernels is to build them out of simpler kernels as building blocks. This can be done using the following properties:\n",
    "><font color='red'>Techniques for Constructin New Kernels.</font>  \n",
    ">Given valid kernels $k_1(\\mathbf{x},\\mathbf{x}')$ and $k_2(\\mathbf{x},\\mathbf{x}')$, the following new kernels will also be valid:\n",
    ">$$\\begin{align*}\n",
    "k(\\mathbf{x},\\mathbf{x}') &= ck_1(\\mathbf{x},\\mathbf{x}') \\tag{6.13}\\\\\n",
    "k(\\mathbf{x},\\mathbf{x}') &= f(\\mathbf{x})k_1(\\mathbf{x},\\mathbf{x}')f(\\mathbf{x}') \\tag{6.14}\\\\\n",
    "k(\\mathbf{x},\\mathbf{x}') &= q(k_1(\\mathbf{x},\\mathbf{x}')) \\tag{6.15}\\\\\n",
    "k(\\mathbf{x},\\mathbf{x}') &= exp(k_1(\\mathbf{x},\\mathbf{x}')) \\tag{6.16}\\\\\n",
    "k(\\mathbf{x},\\mathbf{x}') &= k_1(\\mathbf{x},\\mathbf{x}') + k_2(\\mathbf{x},\\mathbf{x}')\\tag{6.17}\\\\\n",
    "k(\\mathbf{x},\\mathbf{x}') &= k_1(\\mathbf{x},\\mathbf{x}')k_2(\\mathbf{x},\\mathbf{x}') \\tag{6.18}\\\\\n",
    "k(\\mathbf{x},\\mathbf{x}') &= k_3(\\phi(\\mathbf{x}),\\phi(\\mathbf{x}')) \\tag{6.19}\\\\\n",
    "k(\\mathbf{x},\\mathbf{x}') &= \\mathbf{x}^T\\mathbf{A}\\mathbf{x}' \\tag{6.20}\\\\\n",
    "k(\\mathbf{x},\\mathbf{x}') &= k_a(\\mathbf{x}_a,\\mathbf{x}'_a) + k_b(\\mathbf{x}_b,\\mathbf{x}'_b)\\tag{6.21}\\\\\n",
    "k(\\mathbf{x},\\mathbf{x}') &= k_a(\\mathbf{x}_a,\\mathbf{x}'_a) k_b(\\mathbf{x}_b,\\mathbf{x}'_b) \\tag{6.22}\\\\\n",
    "\\end{align*}$$\n",
    ">where\n",
    ">- $c>0$ is a constant.\n",
    ">- $f(\\cdot)$ is any function.\n",
    ">- $q(\\cdot)$ is a polynomial with nonnegative coefficients.\n",
    ">- $\\phi(\\mathbf{x})$ is a function from $\\mathbf{x}$ to $\\mathbb{R}^M$.\n",
    ">- $k_3(\\cdot, \\cdot)$ is a valid kernel in $\\mathbb{R}^M$.\n",
    ">- $\\mathbf{A}$ is a symmetric positive semidefinite matrix.\n",
    ">- $x_a$ and $x_b$ are variables (no necessarily disjoint) with $x = (\\mathbf{a}, \\mathbf{b})$.\n",
    ">- $k_a$ and $k_b$ are valid kernel functions over their respective spaces.\n",
    "\n",
    "If the Gram matrix of a kernel is <font color='red'>symmetric and positive semidefinite</font>, then it is said valid. It can also be verified that a kernel is still valid if it was constructed using the techniques above.\n",
    "\n",
    "\n",
    "However, some kernel whose Gram matrix is not positive semidefinite has also been used in practice."
   ]
  }
 ],
 "metadata": {
  "kernelspec": {
   "display_name": "Python 3",
   "language": "python",
   "name": "python3"
  },
  "language_info": {
   "codemirror_mode": {
    "name": "ipython",
    "version": 3
   },
   "file_extension": ".py",
   "mimetype": "text/x-python",
   "name": "python",
   "nbconvert_exporter": "python",
   "pygments_lexer": "ipython3",
   "version": "3.7.3"
  }
 },
 "nbformat": 4,
 "nbformat_minor": 2
}
