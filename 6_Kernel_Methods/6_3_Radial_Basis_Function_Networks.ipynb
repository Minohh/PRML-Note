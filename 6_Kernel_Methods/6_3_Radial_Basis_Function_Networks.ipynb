{
 "cells": [
  {
   "cell_type": "markdown",
   "metadata": {},
   "source": [
    "\n",
    "# Nadaraya-Watson model\n",
    "\n",
    "$$p(\\mathbf{x},t) = \\frac{1}{N}\\sum_{n=1}^N f(\\mathbf{x}-\\mathbf{x}_n, t-t_n) \\tag{6.42}$$\n",
    "\n",
    "$$\\begin{align*}\n",
    "y(\\mathbf{x}) = \\mathbb{E}[t|\\mathbf{x}] \n",
    "&= \\int_{-\\infty}^{\\infty}tp(t|\\mathbf{x})dt \\\\\n",
    "&= \\frac{\\int tp(\\mathbf{x}, t)dt}{\\int p(\\mathbf{x}, t)dt}\\\\\n",
    "&= \\frac{\\sum_n \\int tf(\\mathbf{x}-\\mathbf{x}, t-t_n)dt}{\\sum_m \\int f(\\mathbf{x}-\\mathbf{x}_m, t-t_m)dt} \\tag{6.43}\\\\\n",
    "\\end{align*}$$\n",
    "\n",
    "$$p(t|\\mathbf{x}) = \\frac{p(t,\\mathbf{x})}{\\int p(t, \\mathbf{x})dt} = \\frac{\\sum_n f(\\mathbf{x}-\\mathbf{x}_n, t-t_n)}{\\sum_m\\int f(\\mathbf{x}-\\mathbf{x}_m,t-t_m)dt}\\tag{6.48}$$\n",
    "\n",
    "-------------------\n",
    "\n",
    "# Example\n",
    "\n",
    "When $p(t, \\mathbf{x})$ is a isotropic Gaussian,\n",
    "The kernel takes the form\n",
    "$$k(\\mathbf{x}, \\mathbf{x}_n) = \\frac{\\int\\mathcal{N}(x| x_n, \\sigma^2)\\mathcal{N}(t| t_n, \\sigma^2) dt}{\\sum_m \\int\\mathcal{N}(x| x_m,\\sigma^2)\\mathcal{N}(t| t_m,\\sigma^2) dt} =  \\frac{\\mathcal{N}(x| x_n,\\sigma^2)}{\\sum_m \\mathcal{N}(x| x_m,\\sigma^2)}$$\n",
    "\n",
    "The conditional expectation takes the form\n",
    "\n",
    "$$y(x) = \\sum_n \\underbrace{\\frac{\\mathcal{N}(x| x_n,\\sigma^2)}{\\sum_m \\mathcal{N}(x| x_m,\\sigma^2)}}_{k(\\mathbf{x},\\mathbf{x}_n)} t_n$$\n",
    "\n",
    "The conditional probability takes the form\n",
    "$$p(t|\\mathbf{x}) = \\sum_n \\underbrace{\\frac{\\mathcal{N}(x| x_n,\\sigma^2)}{\\sum_m\\mathcal{N}(x| x_m,\\sigma^2)}}_{k(\\mathbf{x},\\mathbf{x}_n)} \\mathcal{N}(t| t_n,\\sigma^2)$$"
   ]
  },
  {
   "cell_type": "code",
   "execution_count": 2,
   "metadata": {},
   "outputs": [
    {
     "data": {
      "image/png": "[encoded data removed]",
      "text/plain": [
       "<Figure size 300x200 with 1 Axes>"
      ]
     },
     "metadata": {
      "needs_background": "light"
     },
     "output_type": "display_data"
    }
   ],
   "source": [
    "import numpy as np\n",
    "import matplotlib.pyplot as plt\n",
    "\n",
    "sigma = 0.1\n",
    "noise_sigma = 0.3\n",
    "N = 10\n",
    "Gaussian = lambda x, mu, sigma: 1/(np.sqrt(2*np.pi) * sigma)*np.exp(-(x-mu)**2/(2*sigma**2))\n",
    "\n",
    "def kernel(x, xn):\n",
    "    # x is a value, xn is an array\n",
    "    G = Gaussian(x, xn, sigma)\n",
    "    return G/np.sum(G)\n",
    "\n",
    "def main():\n",
    "    fig = plt.figure(figsize=(6,4), dpi=50)\n",
    "    ax = fig.add_subplot(1,1,1)\n",
    "    ax.set_ylim(-1.6, 1.6)\n",
    "    \n",
    "    #xn = np.random.uniform(0, 1, N)\n",
    "    xn = np.linspace(0, 1, 10)\n",
    "    noise = np.random.normal(0, noise_sigma, N)\n",
    "    tn = np.sin(2*np.pi*xn)+noise\n",
    "    lx = np.linspace(0, 1, 30)\n",
    "    ly = np.sin(2*np.pi*lx)\n",
    "    \n",
    "    ax.plot(lx, ly, 'g')\n",
    "    ax.scatter(xn, tn, color='b')\n",
    "    \n",
    "    y = np.zeros(ly.shape)\n",
    "    std = np.zeros(ly.shape)\n",
    "    for i in range(len(lx)):\n",
    "        k = kernel(lx[i], xn)\n",
    "        y[i] = np.sum(k*tn)\n",
    "        \n",
    "        # Mixture Gaussian standard derivation\n",
    "        var = np.sum(k*sigma**2) + np.sum(k*tn**2) - np.sum(k*tn)**2\n",
    "        std[i] = np.sqrt(var)\n",
    "    #print(std)\n",
    "    ax.plot(lx, y, 'r')\n",
    "    ax.fill_between(lx, y-std, y+std, color='C3', alpha=0.3)\n",
    "    plt.show()\n",
    "\n",
    "if __name__==\"__main__\":\n",
    "    main()"
   ]
  },
  {
   "cell_type": "markdown",
   "metadata": {},
   "source": [
    "Reference: <a href='https://stats.stackexchange.com/questions/16608/what-is-the-variance-of-the-weighted-mixture-of-two-gaussians'>Mixture Gaussian standard derivation</a>\n"
   ]
  }
 ],
 "metadata": {
  "kernelspec": {
   "display_name": "Python 3",
   "language": "python",
   "name": "python3"
  },
  "language_info": {
   "codemirror_mode": {
    "name": "ipython",
    "version": 3
   },
   "file_extension": ".py",
   "mimetype": "text/x-python",
   "name": "python",
   "nbconvert_exporter": "python",
   "pygments_lexer": "ipython3",
   "version": "3.7.3"
  }
 },
 "nbformat": 4,
 "nbformat_minor": 2
}
