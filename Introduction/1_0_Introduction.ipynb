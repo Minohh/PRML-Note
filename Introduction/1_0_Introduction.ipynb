{
 "cells": [
  {
   "cell_type": "markdown",
   "metadata": {},
   "source": [
    "# Introduction\n",
    "\n",
    "The field of pattern recognition is concerned with the automatic discovery of regularities in data through the use of computer algorithms and with the use of these regularities to take actions such as classifying the data into different categories.\n",
    "\n",
    "1. **Training set $\\mathbf{x}=\\{x_1, \\cdots, x_N\\}$**: Used to tune the parameters of an adaptive model,The categories are known typically by inspecting them individually and hand-labelling them.\n",
    "2. **Target vector $\\mathbf{t}$**: Represent the identity of a category.\n",
    "3. **Function $y(x)$**: Take input $x$ and generate output vector $y$.\n",
    "4. **Test set**: Once the model is trained it can then determine the identity of new inputs, which is the test set. We use the test set to test the ability of categorizing.\n",
    "5. **Generalization**: The ability to categorize correctly new examples that differ from those used from training.(Apply $y(x)$ to real-world $x$) \n",
    "\n",
    "\n",
    "For most practical applications, the original input variables are typically **preprocessd** to transform them into some new space of variables where, it is hoped, the pattern recognition problem will be easier to solve.\n",
    "\n",
    "\n",
    "**Supervised learning**: Training data comprises examples of the input vectors along with their corresponding target vectors.\n",
    "- **Classification**: Assign each input vector to one of a finite number of discrete categories.\n",
    "- **Regression**: The disired output consists of one or more continuous variables.\n",
    "\n",
    "\n",
    "\n",
    "**Unsupervised learning**: Training data consists of a set of input vector $x$ without any corresponding target values.\n",
    "- **Clustering**: Discover groups of similar examples within the data.\n",
    "- **Density estimation**: Determine the distribution of data within the data.\n",
    "- **Visualization**: Project the data from high-dimensional space down to two or three dimensions.\n",
    "   \n",
    "**Reinforcement learning**: Concern with the problem of finding suitable actions to take in a given situation in order to maximize a reward.Here  the learning algorithm is not given examples of optimal outputs, in contrast to supervised learning, but must instead discover them by a process of trial and error. Typically there is a sequence of states and actions in which the learning algorithm is interacting with its environment.\n"
   ]
  }
 ],
 "metadata": {
  "kernelspec": {
   "display_name": "Python 3",
   "language": "python",
   "name": "python3"
  },
  "language_info": {
   "codemirror_mode": {
    "name": "ipython",
    "version": 3
   },
   "file_extension": ".py",
   "mimetype": "text/x-python",
   "name": "python",
   "nbconvert_exporter": "python",
   "pygments_lexer": "ipython3",
   "version": "3.7.3"
  }
 },
 "nbformat": 4,
 "nbformat_minor": 2
}
