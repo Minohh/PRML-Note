{
 "cells": [
  {
   "cell_type": "markdown",
   "metadata": {},
   "source": [
    "# Model Selection\n",
    "\n",
    "We may have a number of candidate models, how can we select the best from these models.  \n",
    "In our example of polynomial curve fitting, we saw that there was an optimal order of polynomial that gave the best generalization.  \n",
    "1. Higher order, more parameters, which means a more complex models as well as heavier computation pressure.  \n",
    "2. Furthermore, it easily leads to the problem of over-fitting if we have no plenty of training data.  \n",
    "3. This problem is more severe if we are using the algorithm with many parameters such as neuron network.  \n",
    "\n",
    "**Techique of Model Selection**\n",
    "1. For the purpose of selecting better parameters, as we have seen in the example of polynomial curve fitting, we can add a term after the error function (or say likelihood function), named ragularization, which is likely to pick parameters near zero.  \n",
    "2. There is a simple algorithm that add a term expresses the quantity of parameters after the likelihood function.  \n",
    "3. Dealing with over fitting, we should collect more data.  \n",
    "4. In the data limited cases, we can use a technique called cross-validation, which devides the training set to several sets, pick one set from these sets iteratively to be the varidation set, and train the models with the remaining sets.  \n",
    "\n",
    "\n",
    "<pre>\n",
    "     +------+------+------+-------\n",
    "run1 | vali |      |      |      |\n",
    "     +---------------------------+\n",
    "     +---------------------------+\n",
    "run2 |      | vali |      |      |\n",
    "     +---------------------------+\n",
    "     +---------------------------+\n",
    "run3 |      |      | vali |      |\n",
    "     +---------------------------+\n",
    "     +---------------------------+\n",
    "run4 |      |      |      | vali |\n",
    "     +------+------+------+-------\n",
    "</pre>"
   ]
  }
 ],
 "metadata": {
  "kernelspec": {
   "display_name": "Python 2",
   "language": "python",
   "name": "python2"
  },
  "language_info": {
   "codemirror_mode": {
    "name": "ipython",
    "version": 2
   },
   "file_extension": ".py",
   "mimetype": "text/x-python",
   "name": "python",
   "nbconvert_exporter": "python",
   "pygments_lexer": "ipython2",
   "version": "2.7.15"
  }
 },
 "nbformat": 4,
 "nbformat_minor": 2
}
